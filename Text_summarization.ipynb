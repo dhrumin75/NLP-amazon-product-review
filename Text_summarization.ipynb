{
  "nbformat": 4,
  "nbformat_minor": 0,
  "metadata": {
    "colab": {
      "name": "Text summarization.ipynb",
      "provenance": [],
      "collapsed_sections": []
    },
    "kernelspec": {
      "name": "python3",
      "display_name": "Python 3"
    }
  },
  "cells": [
    {
      "cell_type": "code",
      "metadata": {
        "colab": {
          "base_uri": "https://localhost:8080/"
        },
        "id": "8TaALkZZLytT",
        "outputId": "7119508c-088a-46c1-ef35-f55b4b55e0a2"
      },
      "source": [
        "import numpy as np\r\n",
        "import pandas as pd\r\n",
        "import nltk\r\n",
        "nltk.download('punkt') # one time execution\r\n",
        "nltk.download('stopwords') # one time execution\r\n",
        "import re"
      ],
      "execution_count": 80,
      "outputs": [
        {
          "output_type": "stream",
          "text": [
            "[nltk_data] Downloading package punkt to /root/nltk_data...\n",
            "[nltk_data]   Package punkt is already up-to-date!\n",
            "[nltk_data] Downloading package stopwords to /root/nltk_data...\n",
            "[nltk_data]   Package stopwords is already up-to-date!\n"
          ],
          "name": "stdout"
        }
      ]
    },
    {
      "cell_type": "code",
      "metadata": {
        "id": "tjm8FcbvL4Pm"
      },
      "source": [
        "from nltk.tokenize import sent_tokenize\r\n",
        "\r\n",
        "def read_text(data):\r\n",
        "  sentences = [data,]\r\n",
        "\r\n",
        "  tokenized_sentence = sent_tokenize(sentences[0])\r\n",
        "  # sentences = [y for x in sentences for y in x] # flatten list\r\n",
        "  # print(tokenized_sentence)\r\n",
        "  return tokenized_sentence"
      ],
      "execution_count": 100,
      "outputs": []
    },
    {
      "cell_type": "code",
      "metadata": {
        "colab": {
          "base_uri": "https://localhost:8080/"
        },
        "id": "h1D4lqYYOtc1",
        "outputId": "b120a3ca-ac5c-4da9-bb4b-a442a26daf0b"
      },
      "source": [
        "!wget http://nlp.stanford.edu/data/glove.6B.zip\r\n",
        "!unzip glove*.zip"
      ],
      "execution_count": 11,
      "outputs": [
        {
          "output_type": "stream",
          "text": [
            "--2020-12-09 06:41:37--  http://nlp.stanford.edu/data/glove.6B.zip\n",
            "Resolving nlp.stanford.edu (nlp.stanford.edu)... 171.64.67.140\n",
            "Connecting to nlp.stanford.edu (nlp.stanford.edu)|171.64.67.140|:80... connected.\n",
            "HTTP request sent, awaiting response... 302 Found\n",
            "Location: https://nlp.stanford.edu/data/glove.6B.zip [following]\n",
            "--2020-12-09 06:41:37--  https://nlp.stanford.edu/data/glove.6B.zip\n",
            "Connecting to nlp.stanford.edu (nlp.stanford.edu)|171.64.67.140|:443... connected.\n",
            "HTTP request sent, awaiting response... 301 Moved Permanently\n",
            "Location: http://downloads.cs.stanford.edu/nlp/data/glove.6B.zip [following]\n",
            "--2020-12-09 06:41:38--  http://downloads.cs.stanford.edu/nlp/data/glove.6B.zip\n",
            "Resolving downloads.cs.stanford.edu (downloads.cs.stanford.edu)... 171.64.64.22\n",
            "Connecting to downloads.cs.stanford.edu (downloads.cs.stanford.edu)|171.64.64.22|:80... connected.\n",
            "HTTP request sent, awaiting response... 200 OK\n",
            "Length: 862182613 (822M) [application/zip]\n",
            "Saving to: ‘glove.6B.zip’\n",
            "\n",
            "glove.6B.zip        100%[===================>] 822.24M  2.04MB/s    in 6m 27s  \n",
            "\n",
            "2020-12-09 06:48:05 (2.13 MB/s) - ‘glove.6B.zip’ saved [862182613/862182613]\n",
            "\n",
            "Archive:  glove.6B.zip\n",
            "  inflating: glove.6B.50d.txt        \n",
            "  inflating: glove.6B.100d.txt       \n",
            "  inflating: glove.6B.200d.txt       \n",
            "  inflating: glove.6B.300d.txt       \n"
          ],
          "name": "stdout"
        }
      ]
    },
    {
      "cell_type": "code",
      "metadata": {
        "id": "40PMW_29O9q_"
      },
      "source": [
        "# Extract word vectors\r\n",
        "word_embeddings = {}\r\n",
        "f = open('glove.6B.100d.txt', encoding='utf-8')\r\n",
        "for line in f:\r\n",
        "    values = line.split()\r\n",
        "    word = values[0]\r\n",
        "    coefs = np.asarray(values[1:], dtype='float32')\r\n",
        "    word_embeddings[word] = coefs\r\n",
        "f.close()"
      ],
      "execution_count": 12,
      "outputs": []
    },
    {
      "cell_type": "code",
      "metadata": {
        "id": "mF2gA5d1tcQV"
      },
      "source": [
        "from nltk.corpus import stopwords\r\n",
        "stop_words = stopwords.words('english')\r\n",
        "\r\n",
        "def remove_stopwords(sen):\r\n",
        "    sen_new = \" \".join([i for i in sen if i not in stop_words])\r\n",
        "    return sen_new"
      ],
      "execution_count": 82,
      "outputs": []
    },
    {
      "cell_type": "code",
      "metadata": {
        "id": "s9qTRtPuPQCG"
      },
      "source": [
        "def clean_text(data):\r\n",
        "  # remove punctuations, numbers and special characters\r\n",
        "  clean_sentences = pd.Series(data).str.replace(\"[^a-zA-Z]\", \" \")\r\n",
        "\r\n",
        "  # make alphabets lowercase\r\n",
        "  clean_sentences = [s.lower() for s in clean_sentences]\r\n",
        "\r\n",
        "  clean_sentences = [remove_stopwords(r.split()) for r in clean_sentences]\r\n",
        "  return clean_sentences"
      ],
      "execution_count": 83,
      "outputs": []
    },
    {
      "cell_type": "code",
      "metadata": {
        "colab": {
          "base_uri": "https://localhost:8080/"
        },
        "id": "XbyAof7ZQxYg",
        "outputId": "dd2006d5-0efd-4bda-fe5c-ae2875d42c88"
      },
      "source": [
        "clean_sentences"
      ],
      "execution_count": 15,
      "outputs": [
        {
          "output_type": "execute_result",
          "data": {
            "text/plain": [
              "['in an attempt to build an ai ready workforce  microsoft announced intelligent cloud hub which has been launched to empower the next generation of students with ai ready skills ',\n",
              " 'envisioned as a three year collaborative program  intelligent cloud hub will support around     institutions with ai infrastructure  course content and curriculum  developer support  development tools and give students access to cloud and ai services ',\n",
              " 'as part of the program  the redmond giant which wants to expand its reach and is planning to build a strong developer ecosystem in india with the program will set up the core ai infrastructure and iot hub for the selected campuses ',\n",
              " 'the company will provide ai development tools and azure ai services such as microsoft cognitive services  bot services and azure machine learning according to manish prakash  country general manager ps  health and education  microsoft india  said   with ai being the defining technology of our time  it is transforming lives and industry and the jobs of tomorrow will require a different skillset ',\n",
              " 'this will require more collaborations and training and working with ai ',\n",
              " 'that s why it has become more critical than ever for educational institutions to integrate new cloud and ai technologies ',\n",
              " 'the program is an attempt to ramp up the institutional set up and build capabilities among the educators to educate the workforce of tomorrow  ',\n",
              " 'the program aims to build up the cognitive skills and in depth understanding of developing intelligent cloud connected solutions for applications across industry ',\n",
              " 'earlier in april this year  the company announced microsoft professional program in ai as a learning track open to the public ',\n",
              " 'the program was developed to provide job ready skills to programmers who wanted to hone their skills in ai and data science with a series of online courses which featured hands on labs and expert instructors as well ',\n",
              " 'this program also included developer focused ai school that provided a bunch of assets to help build ai skills ']"
            ]
          },
          "metadata": {
            "tags": []
          },
          "execution_count": 15
        }
      ]
    },
    {
      "cell_type": "code",
      "metadata": {
        "colab": {
          "base_uri": "https://localhost:8080/"
        },
        "id": "4JtIkGIQPb2S",
        "outputId": "ee162811-cd67-447c-b870-fa223223cfcc"
      },
      "source": [
        ""
      ],
      "execution_count": 21,
      "outputs": [
        {
          "output_type": "execute_result",
          "data": {
            "text/plain": [
              "['attempt build ai ready workforce microsoft announced intelligent cloud hub launched empower next generation students ai ready skills',\n",
              " 'envisioned three year collaborative program intelligent cloud hub support around institutions ai infrastructure course content curriculum developer support development tools give students access cloud ai services',\n",
              " 'part program redmond giant wants expand reach planning build strong developer ecosystem india program set core ai infrastructure iot hub selected campuses',\n",
              " 'company provide ai development tools azure ai services microsoft cognitive services bot services azure machine learning according manish prakash country general manager ps health education microsoft india said ai defining technology time transforming lives industry jobs tomorrow require different skillset',\n",
              " 'require collaborations training working ai',\n",
              " 'become critical ever educational institutions integrate new cloud ai technologies',\n",
              " 'program attempt ramp institutional set build capabilities among educators educate workforce tomorrow',\n",
              " 'program aims build cognitive skills depth understanding developing intelligent cloud connected solutions applications across industry',\n",
              " 'earlier april year company announced microsoft professional program ai learning track open public',\n",
              " 'program developed provide job ready skills programmers wanted hone skills ai data science series online courses featured hands labs expert instructors well',\n",
              " 'program also included developer focused ai school provided bunch assets help build ai skills']"
            ]
          },
          "metadata": {
            "tags": []
          },
          "execution_count": 21
        }
      ]
    },
    {
      "cell_type": "code",
      "metadata": {
        "id": "5zhjUsYJPkZL"
      },
      "source": [
        "def generate_sentence_vectors(clean_sentences):\r\n",
        "  sentence_vectors = []\r\n",
        "  for i in clean_sentences:\r\n",
        "    if len(i) != 0:\r\n",
        "      v = sum([word_embeddings.get(w, np.zeros((100,))) for w in i.split()])/(len(i.split())+0.001)\r\n",
        "    else:\r\n",
        "      v = np.zeros((100,))\r\n",
        "    sentence_vectors.append(v)\r\n",
        "  return sentence_vectors"
      ],
      "execution_count": 85,
      "outputs": []
    },
    {
      "cell_type": "code",
      "metadata": {
        "id": "CMaTM5S6PtOC"
      },
      "source": [
        "from sklearn.metrics.pairwise import cosine_similarity\r\n",
        "def build_similarity_matrix(tokenized_sentence):\r\n",
        "  # similarity matrix\r\n",
        "  sim_mat = np.zeros([len(tokenized_sentence), len(tokenized_sentence)])\r\n",
        "\r\n",
        "  #We will use Cosine Similarity to compute the similarity between a pair of sentences.\r\n",
        "  # print(sim_mat.shape)\r\n",
        "  sentence_vectors = generate_sentence_vectors(clean_sentences)\r\n",
        "  for i in range(len(tokenized_sentence)):\r\n",
        "    for j in range(len(tokenized_sentence)):\r\n",
        "      if i != j:\r\n",
        "        sim_mat[i][j] = cosine_similarity(sentence_vectors[i].reshape(1,100), sentence_vectors[j].reshape(1,100))[0,0]\r\n",
        "\r\n",
        "  return sim_mat\r\n",
        "  "
      ],
      "execution_count": 101,
      "outputs": []
    },
    {
      "cell_type": "code",
      "metadata": {
        "id": "SXexqBepPuwc"
      },
      "source": [
        "import networkx as nx\r\n",
        "def generate_summary(text_data,top_n=3):\r\n",
        "  summarized_text= ''\r\n",
        "\r\n",
        "  tok_sentences = read_text(text)\r\n",
        "\r\n",
        "  sentences = clean_text(tok_sentences)\r\n",
        "\r\n",
        "  simi_matrix = build_similarity_matrix(sentences)\r\n",
        "\r\n",
        "  #Rank sentences in similarity martix\r\n",
        "  nx_graph = nx.from_numpy_array(sim_mat)\r\n",
        "  scores = nx.pagerank(nx_graph)\r\n",
        "\r\n",
        "  #Sort the rank and pick top sentences\r\n",
        "  ranked_sentences = sorted(((scores[i],s) for i,s in enumerate(tok_sentences)), reverse=True)\r\n",
        "\r\n",
        "  for i in range(top_n):\r\n",
        "    summarized_text += ''.join(ranked_sentences[i][1])\r\n",
        "\r\n",
        "  return \"Summarized text: \\n\",summarized_text\r\n"
      ],
      "execution_count": 97,
      "outputs": []
    },
    {
      "cell_type": "code",
      "metadata": {
        "colab": {
          "base_uri": "https://localhost:8080/"
        },
        "id": "42MF53QbxG2E",
        "outputId": "c4efa378-3ea2-4eff-b8df-c321d045b461"
      },
      "source": [
        "text = 'In an attempt to build an AI-ready workforce, Microsoft announced Intelligent Cloud Hub which has been launched to empower the next generation of students with AI-ready skills. Envisioned as a three-year collaborative program, Intelligent Cloud Hub will support around 100 institutions with AI infrastructure, course content and curriculum, developer support, development tools and give students access to cloud and AI services. As part of the program, the Redmond giant which wants to expand its reach and is planning to build a strong developer ecosystem in India with the program will set up the core AI infrastructure and IoT Hub for the selected campuses. The company will provide AI development tools and Azure AI services such as Microsoft Cognitive Services, Bot Services and Azure Machine Learning.According to Manish Prakash, Country General Manager-PS, Health and Education, Microsoft India, said, \"With AI being the defining technology of our time, it is transforming lives and industry and the jobs of tomorrow will require a different skillset. This will require more collaborations and training and working with AI. That’s why it has become more critical than ever for educational institutions to integrate new cloud and AI technologies. The program is an attempt to ramp up the institutional set-up and build capabilities among the educators to educate the workforce of tomorrow.\" The program aims to build up the cognitive skills and in-depth understanding of developing intelligent cloud connected solutions for applications across industry. Earlier in April this year, the company announced Microsoft Professional Program In AI as a learning track open to the public. The program was developed to provide job ready skills to programmers who wanted to hone their skills in AI and data science with a series of online courses which featured hands-on labs and expert instructors as well. This program also included developer-focused AI school that provided a bunch of assets to help build AI skills.'\r\n",
        "\r\n",
        "print(generate_summary(text,2))\r\n"
      ],
      "execution_count": 102,
      "outputs": [
        {
          "output_type": "stream",
          "text": [
            "('Summarized text: \\n', 'Envisioned as a three-year collaborative program, Intelligent Cloud Hub will support around 100 institutions with AI infrastructure, course content and curriculum, developer support, development tools and give students access to cloud and AI services.This program also included developer-focused AI school that provided a bunch of assets to help build AI skills.')\n"
          ],
          "name": "stdout"
        }
      ]
    },
    {
      "cell_type": "code",
      "metadata": {
        "colab": {
          "base_uri": "https://localhost:8080/"
        },
        "id": "WQN3KLuuVP63",
        "outputId": "aa1807fc-6153-465a-aa42-06a9889e814e"
      },
      "source": [
        ""
      ],
      "execution_count": 72,
      "outputs": [
        {
          "output_type": "execute_result",
          "data": {
            "text/plain": [
              "[(0.09475025585592761,\n",
              "  'Envisioned as a three-year collaborative program, Intelligent Cloud Hub will support around 100 institutions with AI infrastructure, course content and curriculum, developer support, development tools and give students access to cloud and AI services.'),\n",
              " (0.09261969758721697,\n",
              "  'This program also included developer-focused AI school that provided a bunch of assets to help build AI skills.'),\n",
              " (0.09189887844335867,\n",
              "  'In an attempt to build an AI-ready workforce, Microsoft announced Intelligent Cloud Hub which has been launched to empower the next generation of students with AI-ready skills.'),\n",
              " (0.09175389383119435,\n",
              "  'That’s why it has become more critical than ever for educational institutions to integrate new cloud and AI technologies.'),\n",
              " (0.09170016291493399,\n",
              "  'As part of the program, the Redmond giant which wants to expand its reach and is planning to build a strong developer ecosystem in India with the program will set up the core AI infrastructure and IoT Hub for the selected campuses.'),\n",
              " (0.09167434747952026,\n",
              "  'The company will provide AI development tools and Azure AI services such as Microsoft Cognitive Services, Bot Services and Azure Machine Learning.According to Manish Prakash, Country General Manager-PS, Health and Education, Microsoft India, said, \"With AI being the defining technology of our time, it is transforming lives and industry and the jobs of tomorrow will require a different skillset.'),\n",
              " (0.09150681874136991,\n",
              "  'The program was developed to provide job ready skills to programmers who wanted to hone their skills in AI and data science with a series of online courses which featured hands-on labs and expert instructors as well.'),\n",
              " (0.09000510705920146,\n",
              "  'The program is an attempt to ramp up the institutional set-up and build capabilities among the educators to educate the workforce of tomorrow.\"'),\n",
              " (0.08976828785111252,\n",
              "  'The program aims to build up the cognitive skills and in-depth understanding of developing intelligent cloud connected solutions for applications across industry.'),\n",
              " (0.08866406737497888,\n",
              "  'Earlier in April this year, the company announced Microsoft Professional Program In AI as a learning track open to the public.'),\n",
              " (0.08565848286118546,\n",
              "  'This will require more collaborations and training and working with AI.')]"
            ]
          },
          "metadata": {
            "tags": []
          },
          "execution_count": 72
        }
      ]
    }
  ]
}