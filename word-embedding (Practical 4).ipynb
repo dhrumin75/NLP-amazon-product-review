{
 "cells": [
  {
   "cell_type": "markdown",
   "metadata": {},
   "source": [
    "## Practical 4 - Implementing word embedding using Word2Vec/FastText"
   ]
  },
  {
   "cell_type": "code",
   "execution_count": 69,
   "metadata": {
    "colab": {},
    "colab_type": "code",
    "id": "WXc__mkeq0eY"
   },
   "outputs": [],
   "source": [
    "from gensim.models import Word2Vec\n",
    "from gensim.models import FastText\n",
    "sentences = [['this', 'is', 'the', 'good', 'machine', 'learning', 'book'],\n",
    "            ['this', 'is',  'another', 'machine', 'learning', 'book'],\n",
    "            ['one', 'more', 'new', 'book'],\n",
    "         \n",
    "          ['this', 'is', 'about', 'machine', 'learning', 'post'],\n",
    "          ['orange', 'juice', 'is', 'the', 'liquid', 'extract', 'of', 'fruit'],\n",
    "          ['orange', 'juice', 'comes', 'in', 'several', 'different', 'varieties'],\n",
    "          ['this', 'is', 'the', 'last', 'machine', 'learning', 'book'],\n",
    "          ['orange', 'juice', 'comes', 'in', 'several', 'different', 'packages'],\n",
    "          ['orange', 'juice', 'is', 'liquid', 'extract', 'from', 'fruit', 'on', 'orange', 'tree']]\n",
    "\n",
    "sentences_ft = [['this', 'is', 'the', 'good', 'machine', 'learning', 'book'],\n",
    "            ['this', 'is',  'another', 'machine', 'learning', 'book'],\n",
    "            ['one', 'more', 'new', 'book']]\n",
    "\n"
   ]
  },
  {
   "cell_type": "code",
   "execution_count": 79,
   "metadata": {
    "colab": {},
    "colab_type": "code",
    "id": "hrlKC_AUrXvM"
   },
   "outputs": [],
   "source": [
    "from gensim.models import FastText\n",
    "model = Word2Vec(sentences, size=20, min_count=1, window=2,sg=0)\n",
    "model_ft = FastText(sentences, size=10, window=5, min_count=1,workers=4,sg=1)"
   ]
  },
  {
   "cell_type": "code",
   "execution_count": 80,
   "metadata": {
    "colab": {
     "base_uri": "https://localhost:8080/",
     "height": 156
    },
    "colab_type": "code",
    "id": "XcDZ3Oyzx2AJ",
    "outputId": "a0c2f373-e552-4cea-906d-f8c1616681f9"
   },
   "outputs": [
    {
     "name": "stdout",
     "output_type": "stream",
     "text": [
      "W2V:  [-0.02039723 -0.01188876  0.01599356  0.00066481 -0.02349314 -0.01119106\n",
      " -0.02043611 -0.00854858  0.00811639  0.01923888  0.00766001  0.01605356\n",
      "  0.01846913  0.02128879 -0.00279481 -0.00095549  0.01380339  0.00969996\n",
      "  0.0149952  -0.0115544 ]\n",
      "FT:   [-0.00552799  0.03367986 -0.05883833 -0.00220477 -0.00529791 -0.02039591\n",
      "  0.03492972 -0.02631471 -0.01446425  0.0007874 ]\n"
     ]
    },
    {
     "name": "stderr",
     "output_type": "stream",
     "text": [
      "C:\\Users\\Dhrumin\\AppData\\Roaming\\Python\\Python36\\site-packages\\ipykernel_launcher.py:1: DeprecationWarning: Call to deprecated `__getitem__` (Method will be removed in 4.0.0, use self.wv.__getitem__() instead).\n",
      "  \"\"\"Entry point for launching an IPython kernel.\n",
      "C:\\Users\\Dhrumin\\AppData\\Roaming\\Python\\Python36\\site-packages\\ipykernel_launcher.py:2: DeprecationWarning: Call to deprecated `__getitem__` (Method will be removed in 4.0.0, use self.wv.__getitem__() instead).\n",
      "  \n"
     ]
    }
   ],
   "source": [
    "print('W2V: ' ,model['is'])\n",
    "print('FT:  ',model_ft['is'])\n"
   ]
  },
  {
   "cell_type": "code",
   "execution_count": 84,
   "metadata": {
    "colab": {
     "base_uri": "https://localhost:8080/",
     "height": 122
    },
    "colab_type": "code",
    "id": "HcvuoRUjyWuH",
    "outputId": "c7227619-c26e-4631-e92d-548b43b4a360"
   },
   "outputs": [
    {
     "name": "stdout",
     "output_type": "stream",
     "text": [
      "W2V:  0.070006646\n",
      "FT:  0.37623635\n"
     ]
    }
   ],
   "source": [
    "print('W2V: ',model.wv.similarity('orange','juice'))\n",
    "print('FT: ',model_ft.wv.similarity('orange','juice'))"
   ]
  },
  {
   "cell_type": "code",
   "execution_count": 85,
   "metadata": {
    "colab": {
     "base_uri": "https://localhost:8080/",
     "height": 122
    },
    "colab_type": "code",
    "id": "QCQE4-ed1BU3",
    "outputId": "c5b5febd-5e07-4d18-fbc0-fe9b3b7851a9"
   },
   "outputs": [
    {
     "name": "stdout",
     "output_type": "stream",
     "text": [
      "W2V:  0.086379305\n",
      "FT:  -0.19383095\n"
     ]
    }
   ],
   "source": [
    "print('W2V: ',model.wv.similarity('this','orange'))\n",
    "\n",
    "print('FT: ',model_ft.wv.similarity('this','orange'))\n"
   ]
  },
  {
   "cell_type": "code",
   "execution_count": 87,
   "metadata": {
    "colab": {
     "base_uri": "https://localhost:8080/",
     "height": 190
    },
    "colab_type": "code",
    "id": "xR_1LesR1hP9",
    "outputId": "28bbc35b-f5f5-4951-8470-a44d00fdba8b"
   },
   "outputs": [
    {
     "name": "stdout",
     "output_type": "stream",
     "text": [
      "W2V:  [('about', 0.34368228912353516), ('one', 0.2873789370059967), ('extract', 0.28598904609680176), ('more', 0.26465046405792236), ('another', 0.17511127889156342)]\n",
      "FT:  [('extract', 0.617983877658844), ('about', 0.4799743890762329), ('juice', 0.3762363791465759), ('comes', 0.26764047145843506), ('one', 0.24458611011505127)]\n"
     ]
    }
   ],
   "source": [
    "print(\"W2V: \", model.wv.most_similar('orange')[:5])\n",
    "print(\"FT: \", model_ft.wv.most_similar('orange')[:5])"
   ]
  },
  {
   "cell_type": "code",
   "execution_count": 19,
   "metadata": {
    "colab": {
     "base_uri": "https://localhost:8080/",
     "height": 377
    },
    "colab_type": "code",
    "id": "wpJT44X05kgs",
    "outputId": "ef5746ca-4b20-455e-bca3-fe3427e47b2d"
   },
   "outputs": [
    {
     "ename": "KeyError",
     "evalue": "\"word 'maachine' not in vocabulary\"",
     "output_type": "error",
     "traceback": [
      "\u001b[1;31m------------------------------------------------------------------------\u001b[0m",
      "\u001b[1;31mKeyError\u001b[0m                               Traceback (most recent call last)",
      "\u001b[1;32m<ipython-input-19-b214306fa7f1>\u001b[0m in \u001b[0;36m<module>\u001b[1;34m\u001b[0m\n\u001b[1;32m----> 1\u001b[1;33m \u001b[0mmodel\u001b[0m\u001b[1;33m.\u001b[0m\u001b[0mwv\u001b[0m\u001b[1;33m[\u001b[0m\u001b[1;34m'maachine'\u001b[0m\u001b[1;33m]\u001b[0m\u001b[1;33m\u001b[0m\u001b[1;33m\u001b[0m\u001b[0m\n\u001b[0m\u001b[0;32m      2\u001b[0m \u001b[1;31m#Will generate error; Out of vocabulary word: OOV\u001b[0m\u001b[1;33m\u001b[0m\u001b[1;33m\u001b[0m\u001b[1;33m\u001b[0m\u001b[0m\n",
      "\u001b[1;32m~\\AppData\\Local\\Programs\\Python\\Python36\\lib\\site-packages\\gensim\\models\\keyedvectors.py\u001b[0m in \u001b[0;36m__getitem__\u001b[1;34m(self, entities)\u001b[0m\n\u001b[0;32m    351\u001b[0m         \u001b[1;32mif\u001b[0m \u001b[0misinstance\u001b[0m\u001b[1;33m(\u001b[0m\u001b[0mentities\u001b[0m\u001b[1;33m,\u001b[0m \u001b[0mstring_types\u001b[0m\u001b[1;33m)\u001b[0m\u001b[1;33m:\u001b[0m\u001b[1;33m\u001b[0m\u001b[1;33m\u001b[0m\u001b[0m\n\u001b[0;32m    352\u001b[0m             \u001b[1;31m# allow calls like trained_model['office'], as a shorthand for trained_model[['office']]\u001b[0m\u001b[1;33m\u001b[0m\u001b[1;33m\u001b[0m\u001b[1;33m\u001b[0m\u001b[0m\n\u001b[1;32m--> 353\u001b[1;33m             \u001b[1;32mreturn\u001b[0m \u001b[0mself\u001b[0m\u001b[1;33m.\u001b[0m\u001b[0mget_vector\u001b[0m\u001b[1;33m(\u001b[0m\u001b[0mentities\u001b[0m\u001b[1;33m)\u001b[0m\u001b[1;33m\u001b[0m\u001b[1;33m\u001b[0m\u001b[0m\n\u001b[0m\u001b[0;32m    354\u001b[0m \u001b[1;33m\u001b[0m\u001b[0m\n\u001b[0;32m    355\u001b[0m         \u001b[1;32mreturn\u001b[0m \u001b[0mvstack\u001b[0m\u001b[1;33m(\u001b[0m\u001b[1;33m[\u001b[0m\u001b[0mself\u001b[0m\u001b[1;33m.\u001b[0m\u001b[0mget_vector\u001b[0m\u001b[1;33m(\u001b[0m\u001b[0mentity\u001b[0m\u001b[1;33m)\u001b[0m \u001b[1;32mfor\u001b[0m \u001b[0mentity\u001b[0m \u001b[1;32min\u001b[0m \u001b[0mentities\u001b[0m\u001b[1;33m]\u001b[0m\u001b[1;33m)\u001b[0m\u001b[1;33m\u001b[0m\u001b[1;33m\u001b[0m\u001b[0m\n",
      "\u001b[1;32m~\\AppData\\Local\\Programs\\Python\\Python36\\lib\\site-packages\\gensim\\models\\keyedvectors.py\u001b[0m in \u001b[0;36mget_vector\u001b[1;34m(self, word)\u001b[0m\n\u001b[0;32m    469\u001b[0m \u001b[1;33m\u001b[0m\u001b[0m\n\u001b[0;32m    470\u001b[0m     \u001b[1;32mdef\u001b[0m \u001b[0mget_vector\u001b[0m\u001b[1;33m(\u001b[0m\u001b[0mself\u001b[0m\u001b[1;33m,\u001b[0m \u001b[0mword\u001b[0m\u001b[1;33m)\u001b[0m\u001b[1;33m:\u001b[0m\u001b[1;33m\u001b[0m\u001b[1;33m\u001b[0m\u001b[0m\n\u001b[1;32m--> 471\u001b[1;33m         \u001b[1;32mreturn\u001b[0m \u001b[0mself\u001b[0m\u001b[1;33m.\u001b[0m\u001b[0mword_vec\u001b[0m\u001b[1;33m(\u001b[0m\u001b[0mword\u001b[0m\u001b[1;33m)\u001b[0m\u001b[1;33m\u001b[0m\u001b[1;33m\u001b[0m\u001b[0m\n\u001b[0m\u001b[0;32m    472\u001b[0m \u001b[1;33m\u001b[0m\u001b[0m\n\u001b[0;32m    473\u001b[0m     \u001b[1;32mdef\u001b[0m \u001b[0mwords_closer_than\u001b[0m\u001b[1;33m(\u001b[0m\u001b[0mself\u001b[0m\u001b[1;33m,\u001b[0m \u001b[0mw1\u001b[0m\u001b[1;33m,\u001b[0m \u001b[0mw2\u001b[0m\u001b[1;33m)\u001b[0m\u001b[1;33m:\u001b[0m\u001b[1;33m\u001b[0m\u001b[1;33m\u001b[0m\u001b[0m\n",
      "\u001b[1;32m~\\AppData\\Local\\Programs\\Python\\Python36\\lib\\site-packages\\gensim\\models\\keyedvectors.py\u001b[0m in \u001b[0;36mword_vec\u001b[1;34m(self, word, use_norm)\u001b[0m\n\u001b[0;32m    466\u001b[0m             \u001b[1;32mreturn\u001b[0m \u001b[0mresult\u001b[0m\u001b[1;33m\u001b[0m\u001b[1;33m\u001b[0m\u001b[0m\n\u001b[0;32m    467\u001b[0m         \u001b[1;32melse\u001b[0m\u001b[1;33m:\u001b[0m\u001b[1;33m\u001b[0m\u001b[1;33m\u001b[0m\u001b[0m\n\u001b[1;32m--> 468\u001b[1;33m             \u001b[1;32mraise\u001b[0m \u001b[0mKeyError\u001b[0m\u001b[1;33m(\u001b[0m\u001b[1;34m\"word '%s' not in vocabulary\"\u001b[0m \u001b[1;33m%\u001b[0m \u001b[0mword\u001b[0m\u001b[1;33m)\u001b[0m\u001b[1;33m\u001b[0m\u001b[1;33m\u001b[0m\u001b[0m\n\u001b[0m\u001b[0;32m    469\u001b[0m \u001b[1;33m\u001b[0m\u001b[0m\n\u001b[0;32m    470\u001b[0m     \u001b[1;32mdef\u001b[0m \u001b[0mget_vector\u001b[0m\u001b[1;33m(\u001b[0m\u001b[0mself\u001b[0m\u001b[1;33m,\u001b[0m \u001b[0mword\u001b[0m\u001b[1;33m)\u001b[0m\u001b[1;33m:\u001b[0m\u001b[1;33m\u001b[0m\u001b[1;33m\u001b[0m\u001b[0m\n",
      "\u001b[1;31mKeyError\u001b[0m: \"word 'maachine' not in vocabulary\""
     ]
    }
   ],
   "source": [
    "model.wv['maachine']\n",
    "#Will generate error; Out of vocabulary word: OOV"
   ]
  },
  {
   "cell_type": "code",
   "execution_count": 88,
   "metadata": {},
   "outputs": [
    {
     "data": {
      "text/plain": [
       "array([-0.01146221, -0.00701775, -0.01048237,  0.00852862, -0.00037361,\n",
       "        0.00613205,  0.00666531,  0.00159444,  0.00018649, -0.01788029],\n",
       "      dtype=float32)"
      ]
     },
     "execution_count": 88,
     "metadata": {},
     "output_type": "execute_result"
    }
   ],
   "source": [
    "model_ft.wv['maachine']\n",
    "#FastText showing output, unlike word2vec"
   ]
  },
  {
   "cell_type": "code",
   "execution_count": 89,
   "metadata": {
    "colab": {
     "base_uri": "https://localhost:8080/",
     "height": 275
    },
    "colab_type": "code",
    "id": "gOillgf45ks2",
    "outputId": "55c5adcf-16f6-4cea-d3e6-f8d8a0f0157d"
   },
   "outputs": [
    {
     "data": {
      "text/plain": [
       "[('about', 0.34368228912353516),\n",
       " ('one', 0.2873789370059967),\n",
       " ('extract', 0.28598904609680176),\n",
       " ('more', 0.26465046405792236),\n",
       " ('another', 0.17511127889156342),\n",
       " ('in', 0.10077432543039322),\n",
       " ('from', 0.0941963642835617),\n",
       " ('this', 0.08637930452823639),\n",
       " ('on', 0.08251215517520905),\n",
       " ('juice', 0.07000663876533508)]"
      ]
     },
     "execution_count": 89,
     "metadata": {},
     "output_type": "execute_result"
    }
   ],
   "source": [
    "close_words = model.wv.similar_by_word('orange')\n",
    "close_words"
   ]
  },
  {
   "cell_type": "code",
   "execution_count": 91,
   "metadata": {},
   "outputs": [
    {
     "data": {
      "text/plain": [
       "[('extract', 0.617983877658844),\n",
       " ('about', 0.4799743890762329),\n",
       " ('juice', 0.3762363791465759),\n",
       " ('comes', 0.26764047145843506),\n",
       " ('one', 0.24458611011505127),\n",
       " ('machine', 0.23994582891464233),\n",
       " ('good', 0.2246473729610443),\n",
       " ('post', 0.20221418142318726),\n",
       " ('from', 0.19821180403232574),\n",
       " ('new', 0.17364370822906494)]"
      ]
     },
     "execution_count": 91,
     "metadata": {},
     "output_type": "execute_result"
    }
   ],
   "source": [
    "close_words_ft = model_ft.wv.similar_by_word('orange')\n",
    "close_words_ft"
   ]
  },
  {
   "cell_type": "code",
   "execution_count": 32,
   "metadata": {
    "colab": {},
    "colab_type": "code",
    "id": "SmUx1C3R5k4J"
   },
   "outputs": [],
   "source": [
    "import numpy as np\n",
    "from sklearn.manifold import TSNE\n",
    "import matplotlib.pyplot as plt\n",
    "\n",
    "def display_closestwords_tsnescatterplot(model, word, size):\n",
    "    \n",
    "    arr = np.empty((0,size), dtype='f')\n",
    "    word_labels = [word]\n",
    "\n",
    "    close_words = model.wv.similar_by_word(word)\n",
    "    arr = np.append(arr, np.array([model.wv[word]]), axis=0)\n",
    "    for wrd_score in close_words:\n",
    "      wrd_vector = model.wv[wrd_score[0]]\n",
    "      word_labels.append(wrd_score[0])\n",
    "      arr = np.append(arr, np.array([wrd_vector]), axis=0)\n",
    "      \n",
    "    tsne = TSNE(n_components=2, random_state=0)\n",
    "    np.set_printoptions(suppress=True)\n",
    "    Y = tsne.fit_transform(arr)\n",
    "    x_coords = Y[:, 0]\n",
    "    y_coords = Y[:, 1]\n",
    "    plt.scatter(x_coords, y_coords)\n",
    "    for label, x, y in zip(word_labels, x_coords, y_coords):\n",
    "        plt.annotate(label, xy=(x, y), xytext=(0, 0), textcoords='offset points')\n",
    "        plt.xlim(x_coords.min()+0.00005, x_coords.max()+0.00005)\n",
    "        plt.ylim(y_coords.min()+0.00005, y_coords.max()+0.00005)\n",
    "        plt.show()\n",
    "\n",
    "\n",
    "    "
   ]
  },
  {
   "cell_type": "code",
   "execution_count": 33,
   "metadata": {
    "colab": {
     "base_uri": "https://localhost:8080/",
     "height": 1000
    },
    "colab_type": "code",
    "collapsed": true,
    "id": "QELt1p4ePDo7",
    "outputId": "86b491a8-f7ec-43d8-86d9-d329f503cc55"
   },
   "outputs": [
    {
     "data": {
      "image/png": "[encoded data removed]",
      "text/plain": [
       "<Figure size 432x288 with 1 Axes>"
      ]
     },
     "metadata": {
      "needs_background": "light"
     },
     "output_type": "display_data"
    },
    {
     "data": {
      "image/png": "[encoded data removed]",
      "text/plain": [
       "<Figure size 432x288 with 1 Axes>"
      ]
     },
     "metadata": {
      "needs_background": "light"
     },
     "output_type": "display_data"
    },
    {
     "data": {
      "image/png": "[encoded data removed]",
      "text/plain": [
       "<Figure size 432x288 with 1 Axes>"
      ]
     },
     "metadata": {
      "needs_background": "light"
     },
     "output_type": "display_data"
    },
    {
     "data": {
      "image/png": "[encoded data removed]",
      "text/plain": [
       "<Figure size 432x288 with 1 Axes>"
      ]
     },
     "metadata": {
      "needs_background": "light"
     },
     "output_type": "display_data"
    },
    {
     "data": {
      "image/png": "[encoded data removed]",
      "text/plain": [
       "<Figure size 432x288 with 1 Axes>"
      ]
     },
     "metadata": {
      "needs_background": "light"
     },
     "output_type": "display_data"
    },
    {
     "data": {
      "image/png": "[encoded data removed]",
      "text/plain": [
       "<Figure size 432x288 with 1 Axes>"
      ]
     },
     "metadata": {
      "needs_background": "light"
     },
     "output_type": "display_data"
    },
    {
     "data": {
      "image/png": "[encoded data removed]",
      "text/plain": [
       "<Figure size 432x288 with 1 Axes>"
      ]
     },
     "metadata": {
      "needs_background": "light"
     },
     "output_type": "display_data"
    },
    {
     "data": {
      "image/png": "[encoded data removed]",
      "text/plain": [
       "<Figure size 432x288 with 1 Axes>"
      ]
     },
     "metadata": {
      "needs_background": "light"
     },
     "output_type": "display_data"
    },
    {
     "data": {
      "image/png": "[encoded data removed]",
      "text/plain": [
       "<Figure size 432x288 with 1 Axes>"
      ]
     },
     "metadata": {
      "needs_background": "light"
     },
     "output_type": "display_data"
    },
    {
     "data": {
      "image/png": "[encoded data removed]",
      "text/plain": [
       "<Figure size 432x288 with 1 Axes>"
      ]
     },
     "metadata": {
      "needs_background": "light"
     },
     "output_type": "display_data"
    },
    {
     "data": {
      "image/png": "[encoded data removed]",
      "text/plain": [
       "<Figure size 432x288 with 1 Axes>"
      ]
     },
     "metadata": {
      "needs_background": "light"
     },
     "output_type": "display_data"
    }
   ],
   "source": [
    "#for Word2Vec\n",
    "display_closestwords_tsnescatterplot(model, 'orange', 20) "
   ]
  },
  {
   "cell_type": "code",
   "execution_count": 93,
   "metadata": {
    "collapsed": true
   },
   "outputs": [
    {
     "data": {
      "image/png": "[encoded data removed]",
      "text/plain": [
       "<Figure size 432x288 with 1 Axes>"
      ]
     },
     "metadata": {
      "needs_background": "light"
     },
     "output_type": "display_data"
    },
    {
     "data": {
      "image/png": "[encoded data removed]",
      "text/plain": [
       "<Figure size 432x288 with 1 Axes>"
      ]
     },
     "metadata": {
      "needs_background": "light"
     },
     "output_type": "display_data"
    },
    {
     "data": {
      "image/png": "[encoded data removed]",
      "text/plain": [
       "<Figure size 432x288 with 1 Axes>"
      ]
     },
     "metadata": {
      "needs_background": "light"
     },
     "output_type": "display_data"
    },
    {
     "data": {
      "image/png": "[encoded data removed]",
      "text/plain": [
       "<Figure size 432x288 with 1 Axes>"
      ]
     },
     "metadata": {
      "needs_background": "light"
     },
     "output_type": "display_data"
    },
    {
     "data": {
      "image/png": "[encoded data removed]",
      "text/plain": [
       "<Figure size 432x288 with 1 Axes>"
      ]
     },
     "metadata": {
      "needs_background": "light"
     },
     "output_type": "display_data"
    },
    {
     "data": {
      "image/png": "[encoded data removed]",
      "text/plain": [
       "<Figure size 432x288 with 1 Axes>"
      ]
     },
     "metadata": {
      "needs_background": "light"
     },
     "output_type": "display_data"
    },
    {
     "data": {
      "image/png": "[encoded data removed]",
      "text/plain": [
       "<Figure size 432x288 with 1 Axes>"
      ]
     },
     "metadata": {
      "needs_background": "light"
     },
     "output_type": "display_data"
    },
    {
     "data": {
      "image/png": "[encoded data removed]",
      "text/plain": [
       "<Figure size 432x288 with 1 Axes>"
      ]
     },
     "metadata": {
      "needs_background": "light"
     },
     "output_type": "display_data"
    },
    {
     "data": {
      "image/png": "[encoded data removed]",
      "text/plain": [
       "<Figure size 432x288 with 1 Axes>"
      ]
     },
     "metadata": {
      "needs_background": "light"
     },
     "output_type": "display_data"
    },
    {
     "data": {
      "image/png": "[encoded data removed]",
      "text/plain": [
       "<Figure size 432x288 with 1 Axes>"
      ]
     },
     "metadata": {
      "needs_background": "light"
     },
     "output_type": "display_data"
    },
    {
     "data": {
      "image/png": "[encoded data removed]",
      "text/plain": [
       "<Figure size 432x288 with 1 Axes>"
      ]
     },
     "metadata": {
      "needs_background": "light"
     },
     "output_type": "display_data"
    }
   ],
   "source": [
    "#for FastText\n",
    "display_closestwords_tsnescatterplot(model_ft, 'orange', 10)"
   ]
  },
  {
   "cell_type": "code",
   "execution_count": 100,
   "metadata": {
    "colab": {
     "base_uri": "https://localhost:8080/",
     "height": 71
    },
    "colab_type": "code",
    "id": "ess6_541upPl",
    "outputId": "13975836-72f8-49df-bc3c-8d23621522ae"
   },
   "outputs": [],
   "source": [
    "import numpy as np\n",
    " \n",
    "def sent_vectorizer(sent, model):\n",
    "    sent_vec = np.zeros(20)\n",
    "    numw = 0\n",
    "    for w in sent:\n",
    "        try:\n",
    "            sent_vec = np.add(sent_vec, model.wv[w])\n",
    "            numw+=1\n",
    "        except:\n",
    "            pass\n",
    "    return sent_vec / np.sqrt(sent_vec.dot(sent_vec))\n",
    " \n",
    "V=[]\n",
    "for sentence in sentences:\n",
    "    V.append(sent_vectorizer(sentence, model))\n",
    "    "
   ]
  },
  {
   "cell_type": "code",
   "execution_count": 99,
   "metadata": {},
   "outputs": [],
   "source": [
    "Ft = []\n",
    "for sentence in sentences:\n",
    "    Ft.append(sent_vectorizer(sentence, model_ft))"
   ]
  },
  {
   "cell_type": "code",
   "execution_count": 101,
   "metadata": {},
   "outputs": [
    {
     "data": {
      "text/plain": [
       "array([-0.5429004 ,  0.23807214, -0.6002917 ,  0.13657718,  0.24628471,\n",
       "       -0.26469531,  0.09887034, -0.1299462 ,  0.24441731,  0.22903363])"
      ]
     },
     "execution_count": 101,
     "metadata": {},
     "output_type": "execute_result"
    }
   ],
   "source": [
    "Ft[0]\n"
   ]
  },
  {
   "cell_type": "code",
   "execution_count": 40,
   "metadata": {
    "colab": {
     "base_uri": "https://localhost:8080/",
     "height": 85
    },
    "colab_type": "code",
    "id": "XNd0oygku_oh",
    "outputId": "a7623d3e-8f3a-43ce-c9fc-2979ff4a42fd"
   },
   "outputs": [
    {
     "data": {
      "text/plain": [
       "array([-0.01188202,  0.01163291, -0.11335758, -0.30648557, -0.28569272,\n",
       "       -0.02999052, -0.3796702 ,  0.02928347, -0.07751176,  0.03574959,\n",
       "        0.14097189, -0.18865491, -0.01899861,  0.04873278,  0.10135412,\n",
       "       -0.13335817,  0.69631334,  0.22793496, -0.10976758, -0.15170737])"
      ]
     },
     "execution_count": 40,
     "metadata": {},
     "output_type": "execute_result"
    }
   ],
   "source": [
    "V[0]"
   ]
  },
  {
   "cell_type": "code",
   "execution_count": 42,
   "metadata": {
    "colab": {
     "base_uri": "https://localhost:8080/",
     "height": 162
    },
    "colab_type": "code",
    "collapsed": true,
    "id": "0SMulXYcvICf",
    "outputId": "759d8ebf-c7b1-4419-8cd6-da8b1acf4f90"
   },
   "outputs": [
    {
     "data": {
      "text/plain": [
       "[array([-0.01188202,  0.01163291, -0.11335758, -0.30648557, -0.28569272,\n",
       "        -0.02999052, -0.3796702 ,  0.02928347, -0.07751176,  0.03574959,\n",
       "         0.14097189, -0.18865491, -0.01899861,  0.04873278,  0.10135412,\n",
       "        -0.13335817,  0.69631334,  0.22793496, -0.10976758, -0.15170737]),\n",
       " array([-0.11508005, -0.11205478, -0.20042278, -0.23218407, -0.2329575 ,\n",
       "         0.06566067, -0.18092113, -0.01376511,  0.17954058,  0.08470034,\n",
       "         0.16184995,  0.07221727, -0.06373307,  0.31945147,  0.27910288,\n",
       "        -0.19582089,  0.58050002,  0.28593187,  0.10697094, -0.25546809]),\n",
       " array([-0.04033173,  0.03490979, -0.21298672, -0.25849953,  0.21799227,\n",
       "        -0.08950398,  0.29878612,  0.09503512, -0.28219221, -0.02655632,\n",
       "        -0.08815569, -0.16101384, -0.18261661, -0.4906995 ,  0.00971465,\n",
       "        -0.23662486,  0.47184739, -0.1543871 ,  0.19577835,  0.04553357]),\n",
       " array([ 0.07816748,  0.16796636, -0.16559279, -0.05561435, -0.28593792,\n",
       "        -0.08717906, -0.21745582, -0.17284115,  0.00813904,  0.34364647,\n",
       "         0.15691518, -0.05922354,  0.09815044,  0.53317127,  0.02956152,\n",
       "        -0.18358644,  0.37455132,  0.24138741,  0.07968683, -0.29826658]),\n",
       " array([-0.15473871, -0.18118588,  0.30679744,  0.09941249, -0.32494708,\n",
       "        -0.06924059, -0.15370946,  0.22730468,  0.18411737,  0.3626157 ,\n",
       "         0.55756259, -0.10728652,  0.08344055, -0.17119971,  0.17185651,\n",
       "         0.18232953,  0.01608196, -0.17294871,  0.18550892, -0.04616914]),\n",
       " array([-0.1547473 ,  0.09750224, -0.0959933 ,  0.33564506, -0.03425345,\n",
       "         0.07783473, -0.29282897,  0.2476361 ,  0.40393295,  0.33310214,\n",
       "         0.30838984, -0.16692125, -0.0881108 ,  0.13931124,  0.35478377,\n",
       "         0.11571584, -0.06286066, -0.32698878, -0.02924922,  0.12297547]),\n",
       " array([-0.11343932, -0.1071548 , -0.10083866, -0.18690982, -0.19258156,\n",
       "         0.07326491, -0.50429057, -0.13211725,  0.04801289,  0.11234175,\n",
       "         0.14026495, -0.08902786,  0.07084402,  0.19071236,  0.11737286,\n",
       "        -0.09794191,  0.46517529,  0.40327984,  0.04444859, -0.3578306 ]),\n",
       " array([-0.30108619,  0.17725632, -0.13763972,  0.37732611,  0.07659506,\n",
       "         0.09215941, -0.3203267 , -0.02398173,  0.23724149,  0.38230452,\n",
       "         0.35343291,  0.0237822 , -0.22844498,  0.12131102,  0.36474609,\n",
       "        -0.00543343, -0.06447814, -0.14531402, -0.15828059,  0.14437248]),\n",
       " array([-0.02295417, -0.25402926,  0.24327616,  0.01074476, -0.25916462,\n",
       "        -0.2054522 , -0.14210041,  0.02848184,  0.00009667,  0.21836806,\n",
       "         0.5211432 , -0.31425005, -0.10937229, -0.06372737,  0.07608681,\n",
       "         0.07405394, -0.02901397, -0.33256044,  0.39812293,  0.17319965])]"
      ]
     },
     "execution_count": 42,
     "metadata": {},
     "output_type": "execute_result"
    }
   ],
   "source": [
    "V"
   ]
  },
  {
   "cell_type": "code",
   "execution_count": 102,
   "metadata": {
    "collapsed": true
   },
   "outputs": [
    {
     "data": {
      "text/plain": [
       "[array([-0.5429004 ,  0.23807214, -0.6002917 ,  0.13657718,  0.24628471,\n",
       "        -0.26469531,  0.09887034, -0.1299462 ,  0.24441731,  0.22903363]),\n",
       " array([-0.28635985,  0.10076938, -0.76030493,  0.1848497 ,  0.21813349,\n",
       "        -0.25124232,  0.17123794, -0.31415261, -0.00860599,  0.23836376]),\n",
       " array([-0.37434079, -0.07224928,  0.3425173 , -0.47863582, -0.34981759,\n",
       "         0.06126298, -0.31822425, -0.49979776,  0.13229013,  0.11639594]),\n",
       " array([-0.22112043,  0.3762987 , -0.4923672 ,  0.57592395,  0.04600418,\n",
       "         0.17394183, -0.14864405,  0.41548679,  0.01270893,  0.09018431]),\n",
       " array([-0.28338127,  0.14887039, -0.60565637,  0.53110072, -0.37220022,\n",
       "        -0.21600472,  0.15935703, -0.18624948,  0.00022643, -0.05805525]),\n",
       " array([-0.36895302, -0.53592721, -0.25437834,  0.22075489, -0.12338124,\n",
       "         0.21330898, -0.01812752,  0.44354221, -0.06550538, -0.44848826]),\n",
       " array([-0.37788853,  0.11215596, -0.67873891,  0.0794985 ,  0.2221971 ,\n",
       "        -0.25543924,  0.07328874, -0.39131909,  0.09552828,  0.30881468]),\n",
       " array([-0.23637597, -0.40324272, -0.29184155,  0.32200113, -0.1215177 ,\n",
       "         0.24296051, -0.00100015,  0.48865308,  0.1690437 , -0.50150825]),\n",
       " array([-0.21362465,  0.13607506, -0.07530198, -0.22390613, -0.66737576,\n",
       "        -0.17913099, -0.53681738,  0.23640021, -0.23477711,  0.05819951])]"
      ]
     },
     "execution_count": 102,
     "metadata": {},
     "output_type": "execute_result"
    }
   ],
   "source": [
    "Ft"
   ]
  },
  {
   "cell_type": "code",
   "execution_count": null,
   "metadata": {},
   "outputs": [],
   "source": []
  }
 ],
 "metadata": {
  "colab": {
   "collapsed_sections": [],
   "name": "Word2vec.ipynb",
   "provenance": []
  },
  "kernelspec": {
   "display_name": "Python 3",
   "language": "python",
   "name": "python3"
  },
  "language_info": {
   "codemirror_mode": {
    "name": "ipython",
    "version": 3
   },
   "file_extension": ".py",
   "mimetype": "text/x-python",
   "name": "python",
   "nbconvert_exporter": "python",
   "pygments_lexer": "ipython3",
   "version": "3.6.8"
  }
 },
 "nbformat": 4,
 "nbformat_minor": 1
}
